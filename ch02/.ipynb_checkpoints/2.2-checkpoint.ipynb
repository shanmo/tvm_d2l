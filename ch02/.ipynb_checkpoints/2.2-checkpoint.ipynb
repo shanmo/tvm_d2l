{
 "cells": [
  {
   "cell_type": "code",
   "execution_count": 1,
   "id": "c4fb47a2",
   "metadata": {},
   "outputs": [],
   "source": [
    "import numpy as np\n",
    "import tvm\n",
    "from tvm import te"
   ]
  },
  {
   "cell_type": "code",
   "execution_count": 2,
   "id": "0d327615",
   "metadata": {},
   "outputs": [
    {
     "data": {
      "text/plain": [
       "(tvm.tir.expr.Var, 'int32')"
      ]
     },
     "execution_count": 2,
     "metadata": {},
     "output_type": "execute_result"
    }
   ],
   "source": [
    "n = te.var(name='n')\n",
    "type(n), n.dtype"
   ]
  },
  {
   "cell_type": "code",
   "execution_count": 3,
   "id": "d3f132ab",
   "metadata": {},
   "outputs": [
    {
     "data": {
      "text/plain": [
       "#[version = \"0.0.5\"]\n",
       "@main = primfn(a_1: handle, b_1: handle, c_1: handle) -> ()\n",
       "  attr = {\"from_legacy_te_schedule\": True, \"global_symbol\": \"main\", \"tir.noalias\": True}\n",
       "  buffers = {a: Buffer(a_2: Pointer(float32), float32, [(stride: int32*n: int32)], [], type=\"auto\"),\n",
       "             b: Buffer(b_2: Pointer(float32), float32, [(stride_1: int32*n)], [], type=\"auto\"),\n",
       "             c: Buffer(c_2: Pointer(float32), float32, [(stride_2: int32*n)], [], type=\"auto\")}\n",
       "  buffer_map = {a_1: a, b_1: b, c_1: c}\n",
       "  preflattened_buffer_map = {a_1: a_3: Buffer(a_2, float32, [n], [stride], type=\"auto\"), b_1: b_3: Buffer(b_2, float32, [n], [stride_1], type=\"auto\"), c_1: c_3: Buffer(c_2, float32, [n], [stride_2], type=\"auto\")} {\n",
       "  for (i: int32, 0, n) {\n",
       "    c[(i*stride_2)] = (a[(i*stride)] + b[(i*stride_1)])\n",
       "  }\n",
       "}\n",
       "\n",
       "#[metadata]\n",
       "{\n",
       "  \"root\": 1, \n",
       "  \"nodes\": [\n",
       "    {\n",
       "      \"type_key\": \"\"\n",
       "    }, \n",
       "    {\n",
       "      \"type_key\": \"Map\", \n",
       "      \"keys\": [\n",
       "        \"IntImm\"\n",
       "      ], \n",
       "      \"data\": [2]\n",
       "    }, \n",
       "    {\n",
       "      \"type_key\": \"Array\", \n",
       "      \"data\": [3, 4]\n",
       "    }, \n",
       "    {\n",
       "      \"type_key\": \"IntImm\", \n",
       "      \"attrs\": {\n",
       "        \"dtype\": \"bool\", \n",
       "        \"span\": \"0\", \n",
       "        \"value\": \"1\"\n",
       "      }\n",
       "    }, \n",
       "    {\n",
       "      \"type_key\": \"IntImm\", \n",
       "      \"attrs\": {\n",
       "        \"dtype\": \"bool\", \n",
       "        \"span\": \"0\", \n",
       "        \"value\": \"1\"\n",
       "      }\n",
       "    }\n",
       "  ], \n",
       "  \"b64ndarrays\": [], \n",
       "  \"attrs\": {\"tvm_version\": \"0.9.dev0\"}\n",
       "}"
      ]
     },
     "execution_count": 3,
     "metadata": {},
     "output_type": "execute_result"
    }
   ],
   "source": [
    "A = te.placeholder((n,), name='a')\n",
    "B = te.placeholder((n,), name='b')\n",
    "C = te.compute(A.shape, lambda i: A[i] + B[i], name='c')\n",
    "s = te.create_schedule(C.op)\n",
    "tvm.lower(s, [A, B, C], simple_mode=True)"
   ]
  },
  {
   "cell_type": "code",
   "execution_count": 13,
   "id": "212ccdd3",
   "metadata": {},
   "outputs": [],
   "source": [
    "def get_abc(shape, constructor=None):\n",
    "    np.random.seed(0)\n",
    "    # Note that NumPy in default uses 64-bit floating-points or 64-bit integers,\n",
    "    # which is different from 32-bit floating point typically used in deep learning,\n",
    "    # so we explicitly cast the data type\n",
    "    a = np.random.normal(size=shape).astype(np.float32)\n",
    "    b = np.random.normal(size=shape).astype(np.float32)\n",
    "    c = np.empty_like(a)\n",
    "    if constructor:\n",
    "        a, b, c = [constructor(x) for x in (a, b, c)]\n",
    "    return a, b, c"
   ]
  },
  {
   "cell_type": "code",
   "execution_count": 14,
   "id": "05182c1a",
   "metadata": {},
   "outputs": [
    {
     "name": "stdout",
     "output_type": "stream",
     "text": [
      "c.shape: (5,)\n",
      "c.shape: (1000,)\n"
     ]
    }
   ],
   "source": [
    "def test_mod(mod, m):\n",
    "    a, b, c = get_abc(m, tvm.nd.array)\n",
    "    mod(a, b, c)\n",
    "    print('c.shape:', c.shape)\n",
    "    np.testing.assert_equal(c.asnumpy(), a.asnumpy() + b.asnumpy())\n",
    "\n",
    "mod = tvm.build(s, [A, B, C])\n",
    "test_mod(mod, 5)\n",
    "test_mod(mod, 1000)"
   ]
  },
  {
   "cell_type": "code",
   "execution_count": 17,
   "id": "a143c314",
   "metadata": {},
   "outputs": [],
   "source": [
    "def tvm_vector_add(ndim):\n",
    "    A = te.placeholder([te.var() for _ in range(ndim)])\n",
    "    B = te.placeholder(A.shape)\n",
    "    C = te.compute(A.shape, lambda *i: A[i] + B[i])\n",
    "    s = te.create_schedule(C.op)\n",
    "    return tvm.build(s, [A, B, C])"
   ]
  },
  {
   "cell_type": "code",
   "execution_count": 18,
   "id": "cfbd4d37",
   "metadata": {},
   "outputs": [
    {
     "name": "stdout",
     "output_type": "stream",
     "text": [
      "c.shape: (2, 2)\n",
      "c.shape: (2, 3, 4, 5)\n"
     ]
    }
   ],
   "source": [
    "mod = tvm_vector_add(2)\n",
    "test_mod(mod, (2, 2))\n",
    "\n",
    "mod = tvm_vector_add(4)\n",
    "test_mod(mod, (2, 3, 4, 5))"
   ]
  },
  {
   "cell_type": "code",
   "execution_count": 19,
   "id": "af7d4e28",
   "metadata": {},
   "outputs": [
    {
     "data": {
      "text/plain": [
       "#[version = \"0.0.5\"]\n",
       "@main = primfn(placeholder_2: handle, placeholder_3: handle, compute_1: handle) -> ()\n",
       "  attr = {\"from_legacy_te_schedule\": True, \"global_symbol\": \"main\", \"tir.noalias\": True}\n",
       "  buffers = {placeholder: Buffer(placeholder_4: Pointer(float32), float32, [(stride: int32*tindex: int32)], [], type=\"auto\"),\n",
       "             placeholder_1: Buffer(placeholder_5: Pointer(float32), float32, [(stride_1: int32*tindex)], [], type=\"auto\"),\n",
       "             compute: Buffer(compute_2: Pointer(float32), float32, [(stride_2: int32*tindex)], [], type=\"auto\")}\n",
       "  buffer_map = {placeholder_2: placeholder, placeholder_3: placeholder_1, compute_1: compute}\n",
       "  preflattened_buffer_map = {placeholder_2: placeholder_6: Buffer(placeholder_4, float32, [tindex, tindex_1: int32], [stride, stride_3: int32], type=\"auto\"), placeholder_3: placeholder_7: Buffer(placeholder_5, float32, [tindex, tindex_1], [stride_1, stride_4: int32], type=\"auto\"), compute_1: compute_3: Buffer(compute_2, float32, [tindex, tindex_1], [stride_2, stride_5: int32], type=\"auto\")} {\n",
       "  for (i0: int32, 0, tindex) {\n",
       "    for (i1: int32, 0, tindex_1) {\n",
       "      compute[((i0*stride_2) + (i1*stride_5))] = (placeholder[((i0*stride) + (i1*stride_3))] + placeholder_1[((i0*stride_1) + (i1*stride_4))])\n",
       "    }\n",
       "  }\n",
       "}\n",
       "\n",
       "#[metadata]\n",
       "{\n",
       "  \"root\": 1, \n",
       "  \"nodes\": [\n",
       "    {\n",
       "      \"type_key\": \"\"\n",
       "    }, \n",
       "    {\n",
       "      \"type_key\": \"Map\", \n",
       "      \"keys\": [\n",
       "        \"IntImm\"\n",
       "      ], \n",
       "      \"data\": [2]\n",
       "    }, \n",
       "    {\n",
       "      \"type_key\": \"Array\", \n",
       "      \"data\": [3, 4]\n",
       "    }, \n",
       "    {\n",
       "      \"type_key\": \"IntImm\", \n",
       "      \"attrs\": {\n",
       "        \"dtype\": \"bool\", \n",
       "        \"span\": \"0\", \n",
       "        \"value\": \"1\"\n",
       "      }\n",
       "    }, \n",
       "    {\n",
       "      \"type_key\": \"IntImm\", \n",
       "      \"attrs\": {\n",
       "        \"dtype\": \"bool\", \n",
       "        \"span\": \"0\", \n",
       "        \"value\": \"1\"\n",
       "      }\n",
       "    }\n",
       "  ], \n",
       "  \"b64ndarrays\": [], \n",
       "  \"attrs\": {\"tvm_version\": \"0.9.dev0\"}\n",
       "}"
      ]
     },
     "execution_count": 19,
     "metadata": {},
     "output_type": "execute_result"
    }
   ],
   "source": [
    "ndim = 2\n",
    "A = te.placeholder([te.var() for _ in range(ndim)])\n",
    "B = te.placeholder(A.shape)\n",
    "C = te.compute(A.shape, lambda *i: A[i] + B[i])\n",
    "s = te.create_schedule(C.op)\n",
    "tvm.lower(s, [A, B, C], simple_mode=True)"
   ]
  },
  {
   "cell_type": "code",
   "execution_count": null,
   "id": "ff27baec",
   "metadata": {},
   "outputs": [],
   "source": []
  }
 ],
 "metadata": {
  "kernelspec": {
   "display_name": "Python 3 (ipykernel)",
   "language": "python",
   "name": "python3"
  },
  "language_info": {
   "codemirror_mode": {
    "name": "ipython",
    "version": 3
   },
   "file_extension": ".py",
   "mimetype": "text/x-python",
   "name": "python",
   "nbconvert_exporter": "python",
   "pygments_lexer": "ipython3",
   "version": "3.8.13"
  }
 },
 "nbformat": 4,
 "nbformat_minor": 5
}
