{
 "cells": [
  {
   "cell_type": "code",
   "execution_count": 2,
   "id": "beed5150",
   "metadata": {},
   "outputs": [],
   "source": [
    "import numpy as np\n",
    "\n",
    "np.random.seed(0)\n",
    "n = 100\n",
    "# Note that NumPy in default uses 64-bit floating-points or 64-bit integers,\n",
    "# which is different from 32-bit floating point typically used in deep learning,\n",
    "# so we explicitly cast the data type\n",
    "a = np.random.normal(size=n).astype(np.float32)\n",
    "b = np.random.normal(size=n).astype(np.float32)\n",
    "c = a + b\n",
    "\n",
    "def vector_add(a, b, c):\n",
    "    for i in range(n):\n",
    "        c[i] = a[i] + b[i]\n",
    "\n",
    "d = np.empty(shape=n, dtype=np.float32)\n",
    "vector_add(a, b, d)\n",
    "np.testing.assert_array_equal(c, d)"
   ]
  },
  {
   "cell_type": "code",
   "execution_count": 3,
   "id": "4a77e00f",
   "metadata": {},
   "outputs": [],
   "source": [
    "def get_abc(shape, constructor=None):\n",
    "    np.random.seed(0)\n",
    "    # Note that NumPy in default uses 64-bit floating-points or 64-bit integers,\n",
    "    # which is different from 32-bit floating point typically used in deep learning,\n",
    "    # so we explicitly cast the data type\n",
    "    a = np.random.normal(size=shape).astype(np.float32)\n",
    "    b = np.random.normal(size=shape).astype(np.float32)\n",
    "    c = np.empty_like(a)\n",
    "    if constructor:\n",
    "        a, b, c = [constructor(x) for x in (a, b, c)]\n",
    "    return a, b, c"
   ]
  },
  {
   "cell_type": "code",
   "execution_count": 4,
   "id": "0e7a6962",
   "metadata": {},
   "outputs": [],
   "source": [
    "import tvm\n",
    "from tvm import te # te stands for tensor expression"
   ]
  },
  {
   "cell_type": "code",
   "execution_count": 5,
   "id": "21748ec6",
   "metadata": {},
   "outputs": [],
   "source": [
    "def vector_add(n):\n",
    "    A = te.placeholder((n,), name='a')\n",
    "    B = te.placeholder((n,), name='b')\n",
    "    C = te.compute(A.shape, lambda i: A[i] + B[i], name='c')\n",
    "    return A, B, C\n",
    "\n",
    "A, B, C = vector_add(n)"
   ]
  },
  {
   "cell_type": "code",
   "execution_count": 6,
   "id": "0b5cdb1b",
   "metadata": {},
   "outputs": [
    {
     "name": "stdout",
     "output_type": "stream",
     "text": [
      "type(A) <class 'tvm.te.tensor.Tensor'>\n",
      "type(C) <class 'tvm.te.tensor.Tensor'>\n"
     ]
    }
   ],
   "source": [
    "print(f\"type(A) {type(A)}\")\n",
    "print(f\"type(C) {type(C)}\")"
   ]
  },
  {
   "cell_type": "code",
   "execution_count": 7,
   "id": "d64de517",
   "metadata": {},
   "outputs": [
    {
     "name": "stdout",
     "output_type": "stream",
     "text": [
      "type(mod) <class 'tvm.driver.build_module.OperatorModule'>\n",
      "type(y) <class 'tvm.runtime.ndarray.NDArray'>\n",
      "y.asnumpy() <class 'numpy.ndarray'>\n"
     ]
    }
   ],
   "source": [
    "s = te.create_schedule(C.op)\n",
    "tvm.lower(s, [A, B, C], simple_mode=True)\n",
    "\n",
    "mod = tvm.build(s, [A, B, C])\n",
    "print(f\"type(mod) {type(mod)}\")\n",
    "\n",
    "x = np.ones(2)\n",
    "y = tvm.nd.array(x)\n",
    "print(f\"type(y) {type(y)}\")\n",
    "print(f\"y.asnumpy() {type(y.asnumpy())}\")\n",
    "\n",
    "a, b, c = get_abc(100, tvm.nd.array)\n",
    "mod(a, b, c)\n",
    "np.testing.assert_array_equal(a.asnumpy() + b.asnumpy(), c.asnumpy())"
   ]
  },
  {
   "cell_type": "code",
   "execution_count": 8,
   "id": "e47d55a4",
   "metadata": {},
   "outputs": [
    {
     "name": "stdout",
     "output_type": "stream",
     "text": [
      "wrong size\n"
     ]
    }
   ],
   "source": [
    "try:\n",
    "    print(\"wrong size\")\n",
    "    a, b, c = get_abc(200, tvm.nd.array)\n",
    "    mod(a, b, c)\n",
    "except tvm.TVMError as e:\n",
    "    print(f\"error {e}\")"
   ]
  },
  {
   "cell_type": "code",
   "execution_count": 9,
   "id": "6f248ad8",
   "metadata": {},
   "outputs": [
    {
     "name": "stdout",
     "output_type": "stream",
     "text": [
      "wrong datatype\n",
      "error Traceback (most recent call last):\n",
      "  1: TVMFuncCall\n",
      "  0: tvm::runtime::PackedFuncObj::Extractor<tvm::runtime::PackedFuncSubObj<tvm::runtime::WrapPackedFunc(int (*)(TVMValue*, int*, int, TVMValue*, int*, void*), tvm::runtime::ObjectPtr<tvm::runtime::Object> const&)::{lambda(tvm::runtime::TVMArgs, tvm::runtime::TVMRetValue*)#1}> >::Call(tvm::runtime::PackedFuncObj const*, tvm::runtime::TVMArgs, tvm::runtime::TVMRetValue*)\n",
      "  File \"/home/sean/mylibs/tvm/src/runtime/library_module.cc\", line 80\n",
      "TVMError: \n",
      "---------------------------------------------------------------\n",
      "An error occurred during the execution of TVM.\n",
      "For more information, please see: https://tvm.apache.org/docs/errors.html\n",
      "---------------------------------------------------------------\n",
      "\n",
      "  Check failed: ret == 0 (-1 vs. 0) : Assert fail: (((tir.tvm_struct_get(arg.a, 0, 5) == (uint8)2) && (tir.tvm_struct_get(arg.a, 0, 6) == (uint8)32)) && (tir.tvm_struct_get(arg.a, 0, 7) == (uint16)1)), arg.a.dtype is expected to be float32\n"
     ]
    }
   ],
   "source": [
    "try:\n",
    "    print(\"wrong datatype\")\n",
    "    a, b, c = get_abc(100, tvm.nd.array)\n",
    "    a = tvm.nd.array(a.asnumpy().astype('float64'))\n",
    "    mod(a, b, c)\n",
    "except tvm.TVMError as e:\n",
    "    print(f\"error {e}\")"
   ]
  },
  {
   "cell_type": "code",
   "execution_count": 10,
   "id": "d88382db",
   "metadata": {},
   "outputs": [],
   "source": [
    "mod_fname = 'vector-add.tar'\n",
    "mod.export_library(mod_fname)\n",
    "\n",
    "loaded_mod = tvm.runtime.load_module(mod_fname)\n",
    "a, b, c = get_abc(100, tvm.nd.array)\n",
    "loaded_mod(a, b, c)\n",
    "np.testing.assert_array_equal(a.asnumpy() + b.asnumpy(), c.asnumpy())"
   ]
  },
  {
   "cell_type": "code",
   "execution_count": null,
   "id": "4136b55d",
   "metadata": {},
   "outputs": [],
   "source": []
  }
 ],
 "metadata": {
  "kernelspec": {
   "display_name": "Python 3 (ipykernel)",
   "language": "python",
   "name": "python3"
  },
  "language_info": {
   "codemirror_mode": {
    "name": "ipython",
    "version": 3
   },
   "file_extension": ".py",
   "mimetype": "text/x-python",
   "name": "python",
   "nbconvert_exporter": "python",
   "pygments_lexer": "ipython3",
   "version": "3.8.13"
  }
 },
 "nbformat": 4,
 "nbformat_minor": 5
}
