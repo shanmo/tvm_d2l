{
 "cells": [
  {
   "cell_type": "code",
   "execution_count": 1,
   "metadata": {},
   "outputs": [],
   "source": [
    "import tvm\n",
    "from tvm import te\n",
    "import numpy as np"
   ]
  },
  {
   "cell_type": "code",
   "execution_count": 4,
   "metadata": {},
   "outputs": [
    {
     "name": "stdout",
     "output_type": "stream",
     "text": [
      "[[ 0.  1.  2.  3.]\n",
      " [ 4.  5.  6.  7.]\n",
      " [ 8.  9. 10. 11.]]\n",
      "[[ 0.  0.  0.  0.]\n",
      " [ 4.  5.  0.  0.]\n",
      " [ 8.  9. 10.  0.]]\n"
     ]
    }
   ],
   "source": [
    "a = np.arange(12, dtype='float32').reshape((3, 4))\n",
    "print(a)\n",
    "print(np.tril(a))"
   ]
  },
  {
   "cell_type": "code",
   "execution_count": 6,
   "metadata": {},
   "outputs": [],
   "source": [
    "n, m = te.var('n'), te.var('m')\n",
    "A = te.placeholder((n, m))\n",
    "# if_then_else. It accepts three arguments, the first one is the condition, if true returning the second argument, otherwise returning the third one\n",
    "B = te.compute(A.shape, lambda i, j: te.if_then_else(i >= j, A[i,j], 0.0))"
   ]
  },
  {
   "cell_type": "code",
   "execution_count": 7,
   "metadata": {},
   "outputs": [
    {
     "name": "stdout",
     "output_type": "stream",
     "text": [
      "@main = primfn(placeholder_1: handle, compute_1: handle) -> ()\n",
      "  attr = {\"from_legacy_te_schedule\": True, \"global_symbol\": \"main\", \"tir.noalias\": True}\n",
      "  buffers = {placeholder: Buffer(placeholder_2: Pointer(float32), float32, [(stride: int32*n: int32)], [], type=\"auto\"),\n",
      "             compute: Buffer(compute_2: Pointer(float32), float32, [(stride_1: int32*n)], [], type=\"auto\")}\n",
      "  buffer_map = {placeholder_1: placeholder, compute_1: compute}\n",
      "  preflattened_buffer_map = {placeholder_1: placeholder_3: Buffer(placeholder_2, float32, [n, m: int32], [stride, stride_2: int32], type=\"auto\"), compute_1: compute_3: Buffer(compute_2, float32, [n, m], [stride_1, stride_3: int32], type=\"auto\")} {\n",
      "  for (i: int32, 0, n) {\n",
      "    for (j: int32, 0, m) {\n",
      "      compute[((i*stride_1) + (j*stride_3))] = @tir.if_then_else((j <= i), placeholder[((i*stride) + (j*stride_2))], 0f32, dtype=float32)\n",
      "    }\n",
      "  }\n",
      "}\n",
      "\n",
      "\n"
     ]
    },
    {
     "data": {
      "text/plain": [
       "<tvm.nd.NDArray shape=(3, 4), cpu(0)>\n",
       "array([[ 0.,  0.,  0.,  0.],\n",
       "       [ 4.,  5.,  0.,  0.],\n",
       "       [ 8.,  9., 10.,  0.]], dtype=float32)"
      ]
     },
     "execution_count": 7,
     "metadata": {},
     "output_type": "execute_result"
    }
   ],
   "source": [
    "b = tvm.nd.array(np.empty_like(a))\n",
    "s = te.create_schedule(B.op)\n",
    "print(tvm.lower(s, [A, B], simple_mode=True))\n",
    "mod = tvm.build(s, [A, B])\n",
    "mod(tvm.nd.array(a), b)\n",
    "b"
   ]
  }
 ],
 "metadata": {
  "interpreter": {
   "hash": "af60b091d481e3f69a8e5a5de9b9b5e13d642b6b55b505a9cc6b9b8a84ed9e11"
  },
  "kernelspec": {
   "display_name": "Python 3.8.13 ('env_model')",
   "language": "python",
   "name": "python3"
  },
  "language_info": {
   "codemirror_mode": {
    "name": "ipython",
    "version": 3
   },
   "file_extension": ".py",
   "mimetype": "text/x-python",
   "name": "python",
   "nbconvert_exporter": "python",
   "pygments_lexer": "ipython3",
   "version": "3.8.13"
  },
  "orig_nbformat": 4
 },
 "nbformat": 4,
 "nbformat_minor": 2
}
