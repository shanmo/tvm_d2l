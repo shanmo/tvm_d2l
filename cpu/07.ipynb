{
 "cells": [
  {
   "cell_type": "code",
   "execution_count": 1,
   "metadata": {},
   "outputs": [],
   "source": [
    "import numpy as np\n",
    "import timeit\n",
    "import tvm\n",
    "from tvm import te\n",
    "import utils \n",
    "\n",
    "target = 'llvm -mcpu=tigerlake'"
   ]
  },
  {
   "cell_type": "code",
   "execution_count": 2,
   "metadata": {},
   "outputs": [],
   "source": [
    "import os\n",
    "os.environ['KMP_AFFINITY']='granularity=fine,noduplicates,compact,1,0'"
   ]
  },
  {
   "cell_type": "code",
   "execution_count": 3,
   "metadata": {},
   "outputs": [],
   "source": [
    "def conv_gflop(oc, ic, n, k, p, s):\n",
    "    \"\"\"Compute the #floating point operations in a convolution.\n",
    "\n",
    "    The arguments are output channels oc, input channels ic, input size n,\n",
    "    kernel size k, padding p and stride s.\n",
    "    \"\"\"\n",
    "    on = utils.conv_out_size(n, k, p, s)\n",
    "    return 2 * oc * ic * on * on * k * k / 1e9"
   ]
  },
  {
   "cell_type": "code",
   "execution_count": 4,
   "metadata": {},
   "outputs": [],
   "source": [
    "def conv_timer_mxnet(c, n, k, ctx):\n",
    "    \"\"\"Benchmark convolution in MXNet\n",
    "\n",
    "    c : input, output channels\n",
    "    n : input width and height\n",
    "    k : kernel width and height\n",
    "    \"\"\"\n",
    "    timer = timeit.Timer(\n",
    "        setup='import utils\\n'\n",
    "        'import mxnet as mx\\n'\n",
    "        'c, n, k, p, s = %d, %d, %d, %d, 1\\n'\n",
    "        'data, weight, bias, out = utils.get_conv_data_mxnet(\\n'\n",
    "        '    c, c, n, k, p, s, \"%s\")'%(c, n, k, (k-1)//2, ctx),\n",
    "        stmt='utils.conv_mxnet(data, weight, bias, out, k, p, s);'\n",
    "        'out.wait_to_read()')\n",
    "    return timer.timeit"
   ]
  },
  {
   "cell_type": "code",
   "execution_count": 5,
   "metadata": {},
   "outputs": [],
   "source": [
    "def bench_workload(workload):\n",
    "    \"\"\"Benchmark a workload\n",
    "    workload: a method that accept a num_repeat argument\n",
    "    and return its total execution time\n",
    "    \"\"\"\n",
    "    workload(1)  # warmup\n",
    "    time = workload(1)  # the time to run once\n",
    "    if time > 1: return time\n",
    "    # The number of repeats to measure at least 1 second\n",
    "    num_repeats = max(int(1.0 / time), 5)\n",
    "    return workload(num_repeats) / num_repeats"
   ]
  },
  {
   "cell_type": "code",
   "execution_count": 6,
   "metadata": {},
   "outputs": [],
   "source": [
    "def bench_conv_mxnet(sizes, ctx='cpu'):\n",
    "    \"\"\"Return the GFLOPS of MXNet convolution\"\"\"\n",
    "    return [conv_gflop(c, c, n, k, (k-1)//2, 1) /\n",
    "            bench_workload(conv_timer_mxnet(c, n, k, ctx))\n",
    "                for c, n, k in sizes]"
   ]
  },
  {
   "cell_type": "code",
   "execution_count": 7,
   "metadata": {},
   "outputs": [],
   "source": [
    "channels = 2**np.arange(4, 9)\n",
    "# a list of (c, n, k)\n",
    "sizes = [(int(c), 64, 3) for c in channels]\n",
    "mxnet_gflops = bench_conv_mxnet(sizes)"
   ]
  },
  {
   "cell_type": "code",
   "execution_count": 8,
   "metadata": {},
   "outputs": [],
   "source": [
    "def bench_conv_tvm(func, sizes, target):\n",
    "    def workload(nrepeats):\n",
    "        dev = tvm.device(target)\n",
    "        timer = mod.time_evaluator(mod.entry_name, dev=dev, number=nrepeats)\n",
    "        return timer(x, k, y).mean * nrepeats\n",
    "    gflops, times = [], []\n",
    "    for (c, n, k) in sizes:\n",
    "        args = c, c, n, k, (k-1)//2, 1 # oc, ic, n, k, p, s\n",
    "        s, (X, K, Y) = func(*args)\n",
    "        mod = tvm.build(s, [X, K, Y], target)\n",
    "        x, k, y = utils.get_conv_data(\n",
    "            *args, lambda x: tvm.nd.array(x))\n",
    "        times.append(bench_workload(workload))\n",
    "        gflops.append(conv_gflop(*args))\n",
    "    return np.array(gflops) / np.array(times)"
   ]
  },
  {
   "cell_type": "code",
   "execution_count": 9,
   "metadata": {},
   "outputs": [
    {
     "data": {
      "text/plain": [
       "#[version = \"0.0.5\"]\n",
       "@main = primfn(X_1: handle, K_1: handle, Y_1: handle) -> ()\n",
       "  attr = {\"from_legacy_te_schedule\": True, \"global_symbol\": \"main\", \"tir.noalias\": True}\n",
       "  buffers = {X: Buffer(X_2: Pointer(float32), float32, [131072], []),\n",
       "             K: Buffer(K_2: Pointer(float32), float32, [9216], []),\n",
       "             Y: Buffer(Y_2: Pointer(float32), float32, [131072], [])}\n",
       "  buffer_map = {X_1: X, K_1: K, Y_1: Y}\n",
       "  preflattened_buffer_map = {X_1: X_3: Buffer(X_2, float32, [32, 64, 64], []), K_1: K_3: Buffer(K_2, float32, [32, 32, 3, 3], []), Y_1: Y_3: Buffer(Y_2, float32, [32, 64, 64], [])} {\n",
       "  allocate(PaddedX: Pointer(global float32), float32, [139392]), storage_scope = global {\n",
       "    for (i0: int32, 0, 32) \"parallel\" {\n",
       "      for (i1: int32, 0, 66) {\n",
       "        for (i2: int32, 0, 66) {\n",
       "          PaddedX_1: Buffer(PaddedX, float32, [139392], [])[(((i0*4356) + (i1*66)) + i2)] = @tir.if_then_else(((((i1 < 1) || (65 <= i1)) || (i2 < 1)) || (65 <= i2)), 0f32, X[((((i0*4096) + (i1*64)) + i2) - 65)], dtype=float32)\n",
       "        }\n",
       "      }\n",
       "    }\n",
       "    for (c.i.outer.fused.j.outer.fused: int32, 0, 2048) \"parallel\" {\n",
       "      allocate(Y.local: Pointer(local float32), float32, [64]), storage_scope = local {\n",
       "        Y.local_1: Buffer(Y.local, float32, [64], [], scope=\"local\")[ramp(0, 1, 8)] = broadcast(0f32, 8)\n",
       "        Y.local_1[ramp(8, 1, 8)] = broadcast(0f32, 8)\n",
       "        Y.local_1[ramp(16, 1, 8)] = broadcast(0f32, 8)\n",
       "        Y.local_1[ramp(24, 1, 8)] = broadcast(0f32, 8)\n",
       "        Y.local_1[ramp(32, 1, 8)] = broadcast(0f32, 8)\n",
       "        Y.local_1[ramp(40, 1, 8)] = broadcast(0f32, 8)\n",
       "        Y.local_1[ramp(48, 1, 8)] = broadcast(0f32, 8)\n",
       "        Y.local_1[ramp(56, 1, 8)] = broadcast(0f32, 8)\n",
       "        for (ric: int32, 0, 32) {\n",
       "          for (rkh: int32, 0, 3) {\n",
       "            for (rkw: int32, 0, 3) {\n",
       "              let cse_var_2: int32 = ((((floordiv(c.i.outer.fused.j.outer.fused, 64)*288) + (ric*9)) + (rkh*3)) + rkw)\n",
       "              let cse_var_1: int32 = (((((ric*4356) + (floordiv(floormod(c.i.outer.fused.j.outer.fused, 64), 8)*528)) + (rkh*66)) + (floormod(c.i.outer.fused.j.outer.fused, 8)*8)) + rkw)\n",
       "               {\n",
       "                Y.local_1[ramp(0, 1, 8)] = (Y.local_1[ramp(0, 1, 8)] + (PaddedX_1[ramp(cse_var_1, 1, 8)]*broadcast(K[cse_var_2], 8)))\n",
       "                Y.local_1[ramp(8, 1, 8)] = (Y.local_1[ramp(8, 1, 8)] + (PaddedX_1[ramp((cse_var_1 + 66), 1, 8)]*broadcast(K[cse_var_2], 8)))\n",
       "                Y.local_1[ramp(16, 1, 8)] = (Y.local_1[ramp(16, 1, 8)] + (PaddedX_1[ramp((cse_var_1 + 132), 1, 8)]*broadcast(K[cse_var_2], 8)))\n",
       "                Y.local_1[ramp(24, 1, 8)] = (Y.local_1[ramp(24, 1, 8)] + (PaddedX_1[ramp((cse_var_1 + 198), 1, 8)]*broadcast(K[cse_var_2], 8)))\n",
       "                Y.local_1[ramp(32, 1, 8)] = (Y.local_1[ramp(32, 1, 8)] + (PaddedX_1[ramp((cse_var_1 + 264), 1, 8)]*broadcast(K[cse_var_2], 8)))\n",
       "                Y.local_1[ramp(40, 1, 8)] = (Y.local_1[ramp(40, 1, 8)] + (PaddedX_1[ramp((cse_var_1 + 330), 1, 8)]*broadcast(K[cse_var_2], 8)))\n",
       "                Y.local_1[ramp(48, 1, 8)] = (Y.local_1[ramp(48, 1, 8)] + (PaddedX_1[ramp((cse_var_1 + 396), 1, 8)]*broadcast(K[cse_var_2], 8)))\n",
       "                Y.local_1[ramp(56, 1, 8)] = (Y.local_1[ramp(56, 1, 8)] + (PaddedX_1[ramp((cse_var_1 + 462), 1, 8)]*broadcast(K[cse_var_2], 8)))\n",
       "              }\n",
       "            }\n",
       "          }\n",
       "        }\n",
       "        for (i.inner: int32, 0, 8) {\n",
       "          for (j.inner: int32, 0, 8) {\n",
       "            Y[((((floordiv(c.i.outer.fused.j.outer.fused, 8)*512) + (i.inner*64)) + (floormod(c.i.outer.fused.j.outer.fused, 8)*8)) + j.inner)] = Y.local_1[((i.inner*8) + j.inner)]\n",
       "          }\n",
       "        }\n",
       "      }\n",
       "    }\n",
       "  }\n",
       "}\n",
       "\n",
       "#[metadata]\n",
       "{\n",
       "  \"root\": 1, \n",
       "  \"nodes\": [\n",
       "    {\n",
       "      \"type_key\": \"\"\n",
       "    }, \n",
       "    {\n",
       "      \"type_key\": \"Map\", \n",
       "      \"keys\": [\n",
       "        \"IntImm\"\n",
       "      ], \n",
       "      \"data\": [2]\n",
       "    }, \n",
       "    {\n",
       "      \"type_key\": \"Array\", \n",
       "      \"data\": [3, 4]\n",
       "    }, \n",
       "    {\n",
       "      \"type_key\": \"IntImm\", \n",
       "      \"attrs\": {\n",
       "        \"dtype\": \"bool\", \n",
       "        \"span\": \"0\", \n",
       "        \"value\": \"1\"\n",
       "      }\n",
       "    }, \n",
       "    {\n",
       "      \"type_key\": \"IntImm\", \n",
       "      \"attrs\": {\n",
       "        \"dtype\": \"bool\", \n",
       "        \"span\": \"0\", \n",
       "        \"value\": \"1\"\n",
       "      }\n",
       "    }\n",
       "  ], \n",
       "  \"b64ndarrays\": [], \n",
       "  \"attrs\": {\"tvm_version\": \"0.9.dev0\"}\n",
       "}"
      ]
     },
     "execution_count": 9,
     "metadata": {},
     "output_type": "execute_result"
    }
   ],
   "source": [
    "th, tw = 8, 8  # Tile sizes for height and weight\n",
    "\n",
    "def cached_block(oc, ic, n, k, p, s):\n",
    "    X, K, Y, PaddedX = utils.conv(oc, ic, n, n, k, k, p, p, s, s)\n",
    "    s = te.create_schedule(Y.op)\n",
    "    CachedY = s.cache_write(Y, 'local')\n",
    "    # Compute the output block for every output channel in parallel\n",
    "    oc, h, w = Y.op.axis\n",
    "    ho, wo, hi, wi = s[Y].tile(h, w, th, tw)\n",
    "    ochw = s[Y].fuse(oc, ho, wo)\n",
    "    s[Y].parallel(ochw)\n",
    "    # Cache the output block, and move the inner height and width axes\n",
    "    # to innermost, so we can vectorize and unroll them\n",
    "    s[CachedY].compute_at(s[Y], ochw)\n",
    "    _,  ch, cw = CachedY.op.axis\n",
    "    ric, rkh, rkw = CachedY.op.reduce_axis\n",
    "    s[CachedY].reorder(ric, rkh, rkw, ch, cw)\n",
    "    s[CachedY].vectorize(cw)\n",
    "    s[CachedY].unroll(ch)\n",
    "    # Schedule the padding by adding thread-level parallelism\n",
    "    if PaddedX != X:\n",
    "        s[PaddedX].parallel(PaddedX.op.axis[0])\n",
    "    return s, (X, K, Y)\n",
    "\n",
    "s, args = cached_block(32, 32, 64, 3, 1, 1)\n",
    "tvm.lower(s, args, simple_mode=True)"
   ]
  },
  {
   "cell_type": "code",
   "execution_count": 10,
   "metadata": {},
   "outputs": [
    {
     "data": {
      "image/svg+xml": "<?xml version=\"1.0\" encoding=\"utf-8\" standalone=\"no\"?>\n<!DOCTYPE svg PUBLIC \"-//W3C//DTD SVG 1.1//EN\"\n  \"http://www.w3.org/Graphics/SVG/1.1/DTD/svg11.dtd\">\n<svg xmlns:xlink=\"http://www.w3.org/1999/xlink\" width=\"320.778125pt\" height=\"207.83625pt\" viewBox=\"0 0 320.778125 207.83625\" xmlns=\"http://www.w3.org/2000/svg\" version=\"1.1\">\n <metadata>\n  <rdf:RDF xmlns:dc=\"http://purl.org/dc/elements/1.1/\" xmlns:cc=\"http://creativecommons.org/ns#\" xmlns:rdf=\"http://www.w3.org/1999/02/22-rdf-syntax-ns#\">\n   <cc:Work>\n    <dc:type rdf:resource=\"http://purl.org/dc/dcmitype/StillImage\"/>\n    <dc:date>2022-06-19T16:27:54.133808</dc:date>\n    <dc:format>image/svg+xml</dc:format>\n    <dc:creator>\n     <cc:Agent>\n      <dc:title>Matplotlib v3.5.2, https://matplotlib.org/</dc:title>\n     </cc:Agent>\n    </dc:creator>\n   </cc:Work>\n  </rdf:RDF>\n </metadata>\n <defs>\n  <style type=\"text/css\">*{stroke-linejoin: round; stroke-linecap: butt}</style>\n </defs>\n <g id=\"figure_1\">\n  <g id=\"patch_1\">\n   <path d=\"M 0 207.83625 \nL 320.778125 207.83625 \nL 320.778125 0 \nL 0 0 \nL 0 207.83625 \nz\n\" style=\"fill: none\"/>\n  </g>\n  <g id=\"axes_1\">\n   <g id=\"patch_2\">\n    <path d=\"M 62.478125 170.28 \nL 313.578125 170.28 \nL 313.578125 7.2 \nL 62.478125 7.2 \nz\n\" style=\"fill: #ffffff\"/>\n   </g>\n   <g id=\"matplotlib.axis_1\">\n    <g id=\"xtick_1\">\n     <g id=\"line2d_1\">\n      <path d=\"M 224.771827 170.28 \nL 224.771827 7.2 \n\" clip-path=\"url(#p4d4ec47882)\" style=\"fill: none; stroke: #b0b0b0; stroke-width: 0.8; stroke-linecap: square\"/>\n     </g>\n     <g id=\"line2d_2\">\n      <defs>\n       <path id=\"m8d783160da\" d=\"M 0 0 \nL 0 3.5 \n\" style=\"stroke: #000000; stroke-width: 0.8\"/>\n      </defs>\n      <g>\n       <use xlink:href=\"#m8d783160da\" x=\"224.771827\" y=\"170.28\" style=\"stroke: #000000; stroke-width: 0.8\"/>\n      </g>\n     </g>\n     <g id=\"text_1\">\n      <!-- $\\mathdefault{10^{2}}$ -->\n      <g transform=\"translate(215.971827 184.878438)scale(0.1 -0.1)\">\n       <defs>\n        <path id=\"DejaVuSans-31\" d=\"M 794 531 \nL 1825 531 \nL 1825 4091 \nL 703 3866 \nL 703 4441 \nL 1819 4666 \nL 2450 4666 \nL 2450 531 \nL 3481 531 \nL 3481 0 \nL 794 0 \nL 794 531 \nz\n\" transform=\"scale(0.015625)\"/>\n        <path id=\"DejaVuSans-30\" d=\"M 2034 4250 \nQ 1547 4250 1301 3770 \nQ 1056 3291 1056 2328 \nQ 1056 1369 1301 889 \nQ 1547 409 2034 409 \nQ 2525 409 2770 889 \nQ 3016 1369 3016 2328 \nQ 3016 3291 2770 3770 \nQ 2525 4250 2034 4250 \nz\nM 2034 4750 \nQ 2819 4750 3233 4129 \nQ 3647 3509 3647 2328 \nQ 3647 1150 3233 529 \nQ 2819 -91 2034 -91 \nQ 1250 -91 836 529 \nQ 422 1150 422 2328 \nQ 422 3509 836 4129 \nQ 1250 4750 2034 4750 \nz\n\" transform=\"scale(0.015625)\"/>\n        <path id=\"DejaVuSans-32\" d=\"M 1228 531 \nL 3431 531 \nL 3431 0 \nL 469 0 \nL 469 531 \nQ 828 903 1448 1529 \nQ 2069 2156 2228 2338 \nQ 2531 2678 2651 2914 \nQ 2772 3150 2772 3378 \nQ 2772 3750 2511 3984 \nQ 2250 4219 1831 4219 \nQ 1534 4219 1204 4116 \nQ 875 4013 500 3803 \nL 500 4441 \nQ 881 4594 1212 4672 \nQ 1544 4750 1819 4750 \nQ 2544 4750 2975 4387 \nQ 3406 4025 3406 3419 \nQ 3406 3131 3298 2873 \nQ 3191 2616 2906 2266 \nQ 2828 2175 2409 1742 \nQ 1991 1309 1228 531 \nz\n\" transform=\"scale(0.015625)\"/>\n       </defs>\n       <use xlink:href=\"#DejaVuSans-31\" transform=\"translate(0 0.765625)\"/>\n       <use xlink:href=\"#DejaVuSans-30\" transform=\"translate(63.623047 0.765625)\"/>\n       <use xlink:href=\"#DejaVuSans-32\" transform=\"translate(128.203125 39.046875)scale(0.7)\"/>\n      </g>\n     </g>\n    </g>\n    <g id=\"xtick_2\">\n     <g id=\"line2d_3\">\n      <defs>\n       <path id=\"med354f1118\" d=\"M 0 0 \nL 0 2 \n\" style=\"stroke: #000000; stroke-width: 0.6\"/>\n      </defs>\n      <g>\n       <use xlink:href=\"#med354f1118\" x=\"92.263612\" y=\"170.28\" style=\"stroke: #000000; stroke-width: 0.6\"/>\n      </g>\n     </g>\n    </g>\n    <g id=\"xtick_3\">\n     <g id=\"line2d_4\">\n      <g>\n       <use xlink:href=\"#med354f1118\" x=\"125.646359\" y=\"170.28\" style=\"stroke: #000000; stroke-width: 0.6\"/>\n      </g>\n     </g>\n    </g>\n    <g id=\"xtick_4\">\n     <g id=\"line2d_5\">\n      <g>\n       <use xlink:href=\"#med354f1118\" x=\"149.331794\" y=\"170.28\" style=\"stroke: #000000; stroke-width: 0.6\"/>\n      </g>\n     </g>\n    </g>\n    <g id=\"xtick_5\">\n     <g id=\"line2d_6\">\n      <g>\n       <use xlink:href=\"#med354f1118\" x=\"167.703645\" y=\"170.28\" style=\"stroke: #000000; stroke-width: 0.6\"/>\n      </g>\n     </g>\n    </g>\n    <g id=\"xtick_6\">\n     <g id=\"line2d_7\">\n      <g>\n       <use xlink:href=\"#med354f1118\" x=\"182.714541\" y=\"170.28\" style=\"stroke: #000000; stroke-width: 0.6\"/>\n      </g>\n     </g>\n    </g>\n    <g id=\"xtick_7\">\n     <g id=\"line2d_8\">\n      <g>\n       <use xlink:href=\"#med354f1118\" x=\"195.406072\" y=\"170.28\" style=\"stroke: #000000; stroke-width: 0.6\"/>\n      </g>\n     </g>\n    </g>\n    <g id=\"xtick_8\">\n     <g id=\"line2d_9\">\n      <g>\n       <use xlink:href=\"#med354f1118\" x=\"206.399976\" y=\"170.28\" style=\"stroke: #000000; stroke-width: 0.6\"/>\n      </g>\n     </g>\n    </g>\n    <g id=\"xtick_9\">\n     <g id=\"line2d_10\">\n      <g>\n       <use xlink:href=\"#med354f1118\" x=\"216.097287\" y=\"170.28\" style=\"stroke: #000000; stroke-width: 0.6\"/>\n      </g>\n     </g>\n    </g>\n    <g id=\"xtick_10\">\n     <g id=\"line2d_11\">\n      <g>\n       <use xlink:href=\"#med354f1118\" x=\"281.840009\" y=\"170.28\" style=\"stroke: #000000; stroke-width: 0.6\"/>\n      </g>\n     </g>\n    </g>\n    <g id=\"text_2\">\n     <!-- Size -->\n     <g transform=\"translate(177.764062 198.556563)scale(0.1 -0.1)\">\n      <defs>\n       <path id=\"DejaVuSans-53\" d=\"M 3425 4513 \nL 3425 3897 \nQ 3066 4069 2747 4153 \nQ 2428 4238 2131 4238 \nQ 1616 4238 1336 4038 \nQ 1056 3838 1056 3469 \nQ 1056 3159 1242 3001 \nQ 1428 2844 1947 2747 \nL 2328 2669 \nQ 3034 2534 3370 2195 \nQ 3706 1856 3706 1288 \nQ 3706 609 3251 259 \nQ 2797 -91 1919 -91 \nQ 1588 -91 1214 -16 \nQ 841 59 441 206 \nL 441 856 \nQ 825 641 1194 531 \nQ 1563 422 1919 422 \nQ 2459 422 2753 634 \nQ 3047 847 3047 1241 \nQ 3047 1584 2836 1778 \nQ 2625 1972 2144 2069 \nL 1759 2144 \nQ 1053 2284 737 2584 \nQ 422 2884 422 3419 \nQ 422 4038 858 4394 \nQ 1294 4750 2059 4750 \nQ 2388 4750 2728 4690 \nQ 3069 4631 3425 4513 \nz\n\" transform=\"scale(0.015625)\"/>\n       <path id=\"DejaVuSans-69\" d=\"M 603 3500 \nL 1178 3500 \nL 1178 0 \nL 603 0 \nL 603 3500 \nz\nM 603 4863 \nL 1178 4863 \nL 1178 4134 \nL 603 4134 \nL 603 4863 \nz\n\" transform=\"scale(0.015625)\"/>\n       <path id=\"DejaVuSans-7a\" d=\"M 353 3500 \nL 3084 3500 \nL 3084 2975 \nL 922 459 \nL 3084 459 \nL 3084 0 \nL 275 0 \nL 275 525 \nL 2438 3041 \nL 353 3041 \nL 353 3500 \nz\n\" transform=\"scale(0.015625)\"/>\n       <path id=\"DejaVuSans-65\" d=\"M 3597 1894 \nL 3597 1613 \nL 953 1613 \nQ 991 1019 1311 708 \nQ 1631 397 2203 397 \nQ 2534 397 2845 478 \nQ 3156 559 3463 722 \nL 3463 178 \nQ 3153 47 2828 -22 \nQ 2503 -91 2169 -91 \nQ 1331 -91 842 396 \nQ 353 884 353 1716 \nQ 353 2575 817 3079 \nQ 1281 3584 2069 3584 \nQ 2775 3584 3186 3129 \nQ 3597 2675 3597 1894 \nz\nM 3022 2063 \nQ 3016 2534 2758 2815 \nQ 2500 3097 2075 3097 \nQ 1594 3097 1305 2825 \nQ 1016 2553 972 2059 \nL 3022 2063 \nz\n\" transform=\"scale(0.015625)\"/>\n      </defs>\n      <use xlink:href=\"#DejaVuSans-53\"/>\n      <use xlink:href=\"#DejaVuSans-69\" x=\"63.476562\"/>\n      <use xlink:href=\"#DejaVuSans-7a\" x=\"91.259766\"/>\n      <use xlink:href=\"#DejaVuSans-65\" x=\"143.75\"/>\n     </g>\n    </g>\n   </g>\n   <g id=\"matplotlib.axis_2\">\n    <g id=\"ytick_1\">\n     <g id=\"line2d_12\">\n      <defs>\n       <path id=\"m2089dac00e\" d=\"M 0 0 \nL -2 0 \n\" style=\"stroke: #000000; stroke-width: 0.6\"/>\n      </defs>\n      <g>\n       <use xlink:href=\"#m2089dac00e\" x=\"62.478125\" y=\"116.835217\" style=\"stroke: #000000; stroke-width: 0.6\"/>\n      </g>\n     </g>\n     <g id=\"text_3\">\n      <!-- $\\mathdefault{2\\times10^{2}}$ -->\n      <g transform=\"translate(20.878125 120.634435)scale(0.1 -0.1)\">\n       <defs>\n        <path id=\"DejaVuSans-d7\" d=\"M 4488 3438 \nL 3059 2003 \nL 4488 575 \nL 4116 197 \nL 2681 1631 \nL 1247 197 \nL 878 575 \nL 2303 2003 \nL 878 3438 \nL 1247 3816 \nL 2681 2381 \nL 4116 3816 \nL 4488 3438 \nz\n\" transform=\"scale(0.015625)\"/>\n       </defs>\n       <use xlink:href=\"#DejaVuSans-32\" transform=\"translate(0 0.765625)\"/>\n       <use xlink:href=\"#DejaVuSans-d7\" transform=\"translate(83.105469 0.765625)\"/>\n       <use xlink:href=\"#DejaVuSans-31\" transform=\"translate(186.376953 0.765625)\"/>\n       <use xlink:href=\"#DejaVuSans-30\" transform=\"translate(250 0.765625)\"/>\n       <use xlink:href=\"#DejaVuSans-32\" transform=\"translate(314.580078 39.046875)scale(0.7)\"/>\n      </g>\n     </g>\n    </g>\n    <g id=\"ytick_2\">\n     <g id=\"line2d_13\">\n      <g>\n       <use xlink:href=\"#m2089dac00e\" x=\"62.478125\" y=\"51.793164\" style=\"stroke: #000000; stroke-width: 0.6\"/>\n      </g>\n     </g>\n     <g id=\"text_4\">\n      <!-- $\\mathdefault{3\\times10^{2}}$ -->\n      <g transform=\"translate(20.878125 55.592382)scale(0.1 -0.1)\">\n       <defs>\n        <path id=\"DejaVuSans-33\" d=\"M 2597 2516 \nQ 3050 2419 3304 2112 \nQ 3559 1806 3559 1356 \nQ 3559 666 3084 287 \nQ 2609 -91 1734 -91 \nQ 1441 -91 1130 -33 \nQ 819 25 488 141 \nL 488 750 \nQ 750 597 1062 519 \nQ 1375 441 1716 441 \nQ 2309 441 2620 675 \nQ 2931 909 2931 1356 \nQ 2931 1769 2642 2001 \nQ 2353 2234 1838 2234 \nL 1294 2234 \nL 1294 2753 \nL 1863 2753 \nQ 2328 2753 2575 2939 \nQ 2822 3125 2822 3475 \nQ 2822 3834 2567 4026 \nQ 2313 4219 1838 4219 \nQ 1578 4219 1281 4162 \nQ 984 4106 628 3988 \nL 628 4550 \nQ 988 4650 1302 4700 \nQ 1616 4750 1894 4750 \nQ 2613 4750 3031 4423 \nQ 3450 4097 3450 3541 \nQ 3450 3153 3228 2886 \nQ 3006 2619 2597 2516 \nz\n\" transform=\"scale(0.015625)\"/>\n       </defs>\n       <use xlink:href=\"#DejaVuSans-33\" transform=\"translate(0 0.765625)\"/>\n       <use xlink:href=\"#DejaVuSans-d7\" transform=\"translate(83.105469 0.765625)\"/>\n       <use xlink:href=\"#DejaVuSans-31\" transform=\"translate(186.376953 0.765625)\"/>\n       <use xlink:href=\"#DejaVuSans-30\" transform=\"translate(250 0.765625)\"/>\n       <use xlink:href=\"#DejaVuSans-32\" transform=\"translate(314.580078 39.046875)scale(0.7)\"/>\n      </g>\n     </g>\n    </g>\n    <g id=\"text_5\">\n     <!-- GFLOPS -->\n     <g transform=\"translate(14.798438 108.219687)rotate(-90)scale(0.1 -0.1)\">\n      <defs>\n       <path id=\"DejaVuSans-47\" d=\"M 3809 666 \nL 3809 1919 \nL 2778 1919 \nL 2778 2438 \nL 4434 2438 \nL 4434 434 \nQ 4069 175 3628 42 \nQ 3188 -91 2688 -91 \nQ 1594 -91 976 548 \nQ 359 1188 359 2328 \nQ 359 3472 976 4111 \nQ 1594 4750 2688 4750 \nQ 3144 4750 3555 4637 \nQ 3966 4525 4313 4306 \nL 4313 3634 \nQ 3963 3931 3569 4081 \nQ 3175 4231 2741 4231 \nQ 1884 4231 1454 3753 \nQ 1025 3275 1025 2328 \nQ 1025 1384 1454 906 \nQ 1884 428 2741 428 \nQ 3075 428 3337 486 \nQ 3600 544 3809 666 \nz\n\" transform=\"scale(0.015625)\"/>\n       <path id=\"DejaVuSans-46\" d=\"M 628 4666 \nL 3309 4666 \nL 3309 4134 \nL 1259 4134 \nL 1259 2759 \nL 3109 2759 \nL 3109 2228 \nL 1259 2228 \nL 1259 0 \nL 628 0 \nL 628 4666 \nz\n\" transform=\"scale(0.015625)\"/>\n       <path id=\"DejaVuSans-4c\" d=\"M 628 4666 \nL 1259 4666 \nL 1259 531 \nL 3531 531 \nL 3531 0 \nL 628 0 \nL 628 4666 \nz\n\" transform=\"scale(0.015625)\"/>\n       <path id=\"DejaVuSans-4f\" d=\"M 2522 4238 \nQ 1834 4238 1429 3725 \nQ 1025 3213 1025 2328 \nQ 1025 1447 1429 934 \nQ 1834 422 2522 422 \nQ 3209 422 3611 934 \nQ 4013 1447 4013 2328 \nQ 4013 3213 3611 3725 \nQ 3209 4238 2522 4238 \nz\nM 2522 4750 \nQ 3503 4750 4090 4092 \nQ 4678 3434 4678 2328 \nQ 4678 1225 4090 567 \nQ 3503 -91 2522 -91 \nQ 1538 -91 948 565 \nQ 359 1222 359 2328 \nQ 359 3434 948 4092 \nQ 1538 4750 2522 4750 \nz\n\" transform=\"scale(0.015625)\"/>\n       <path id=\"DejaVuSans-50\" d=\"M 1259 4147 \nL 1259 2394 \nL 2053 2394 \nQ 2494 2394 2734 2622 \nQ 2975 2850 2975 3272 \nQ 2975 3691 2734 3919 \nQ 2494 4147 2053 4147 \nL 1259 4147 \nz\nM 628 4666 \nL 2053 4666 \nQ 2838 4666 3239 4311 \nQ 3641 3956 3641 3272 \nQ 3641 2581 3239 2228 \nQ 2838 1875 2053 1875 \nL 1259 1875 \nL 1259 0 \nL 628 0 \nL 628 4666 \nz\n\" transform=\"scale(0.015625)\"/>\n      </defs>\n      <use xlink:href=\"#DejaVuSans-47\"/>\n      <use xlink:href=\"#DejaVuSans-46\" x=\"77.490234\"/>\n      <use xlink:href=\"#DejaVuSans-4c\" x=\"135.009766\"/>\n      <use xlink:href=\"#DejaVuSans-4f\" x=\"187.097656\"/>\n      <use xlink:href=\"#DejaVuSans-50\" x=\"265.808594\"/>\n      <use xlink:href=\"#DejaVuSans-53\" x=\"326.111328\"/>\n     </g>\n    </g>\n   </g>\n   <g id=\"line2d_14\">\n    <path d=\"M 73.891761 162.867273 \nL 130.959943 80.170466 \nL 188.028125 48.897878 \nL 245.096307 29.832979 \nL 302.164489 14.612727 \n\" clip-path=\"url(#p4d4ec47882)\" style=\"fill: none; stroke-dasharray: 5.55,2.4; stroke-dashoffset: 0; stroke: #1f77b4; stroke-width: 1.5\"/>\n   </g>\n   <g id=\"line2d_15\">\n    <path d=\"M 73.891761 89.607431 \nL 130.959943 53.92067 \nL 188.028125 69.573672 \nL 245.096307 83.702222 \nL 302.164489 95.0441 \n\" clip-path=\"url(#p4d4ec47882)\" style=\"fill: none; stroke: #ff7f0e; stroke-width: 1.5; stroke-linecap: square\"/>\n   </g>\n   <g id=\"patch_3\">\n    <path d=\"M 62.478125 170.28 \nL 62.478125 7.2 \n\" style=\"fill: none; stroke: #000000; stroke-width: 0.8; stroke-linejoin: miter; stroke-linecap: square\"/>\n   </g>\n   <g id=\"patch_4\">\n    <path d=\"M 313.578125 170.28 \nL 313.578125 7.2 \n\" style=\"fill: none; stroke: #000000; stroke-width: 0.8; stroke-linejoin: miter; stroke-linecap: square\"/>\n   </g>\n   <g id=\"patch_5\">\n    <path d=\"M 62.478125 170.28 \nL 313.578125 170.28 \n\" style=\"fill: none; stroke: #000000; stroke-width: 0.8; stroke-linejoin: miter; stroke-linecap: square\"/>\n   </g>\n   <g id=\"patch_6\">\n    <path d=\"M 62.478125 7.2 \nL 313.578125 7.2 \n\" style=\"fill: none; stroke: #000000; stroke-width: 0.8; stroke-linejoin: miter; stroke-linecap: square\"/>\n   </g>\n   <g id=\"legend_1\">\n    <g id=\"patch_7\">\n     <path d=\"M 69.478125 44.55625 \nL 133.548438 44.55625 \nQ 135.548438 44.55625 135.548438 42.55625 \nL 135.548438 14.2 \nQ 135.548438 12.2 133.548438 12.2 \nL 69.478125 12.2 \nQ 67.478125 12.2 67.478125 14.2 \nL 67.478125 42.55625 \nQ 67.478125 44.55625 69.478125 44.55625 \nz\n\" style=\"fill: #ffffff; opacity: 0.8; stroke: #cccccc; stroke-linejoin: miter\"/>\n    </g>\n    <g id=\"line2d_16\">\n     <path d=\"M 71.478125 20.298437 \nL 81.478125 20.298437 \nL 91.478125 20.298437 \n\" style=\"fill: none; stroke-dasharray: 5.55,2.4; stroke-dashoffset: 0; stroke: #1f77b4; stroke-width: 1.5\"/>\n    </g>\n    <g id=\"text_6\">\n     <!-- mxnet -->\n     <g transform=\"translate(99.478125 23.798437)scale(0.1 -0.1)\">\n      <defs>\n       <path id=\"DejaVuSans-6d\" d=\"M 3328 2828 \nQ 3544 3216 3844 3400 \nQ 4144 3584 4550 3584 \nQ 5097 3584 5394 3201 \nQ 5691 2819 5691 2113 \nL 5691 0 \nL 5113 0 \nL 5113 2094 \nQ 5113 2597 4934 2840 \nQ 4756 3084 4391 3084 \nQ 3944 3084 3684 2787 \nQ 3425 2491 3425 1978 \nL 3425 0 \nL 2847 0 \nL 2847 2094 \nQ 2847 2600 2669 2842 \nQ 2491 3084 2119 3084 \nQ 1678 3084 1418 2786 \nQ 1159 2488 1159 1978 \nL 1159 0 \nL 581 0 \nL 581 3500 \nL 1159 3500 \nL 1159 2956 \nQ 1356 3278 1631 3431 \nQ 1906 3584 2284 3584 \nQ 2666 3584 2933 3390 \nQ 3200 3197 3328 2828 \nz\n\" transform=\"scale(0.015625)\"/>\n       <path id=\"DejaVuSans-78\" d=\"M 3513 3500 \nL 2247 1797 \nL 3578 0 \nL 2900 0 \nL 1881 1375 \nL 863 0 \nL 184 0 \nL 1544 1831 \nL 300 3500 \nL 978 3500 \nL 1906 2253 \nL 2834 3500 \nL 3513 3500 \nz\n\" transform=\"scale(0.015625)\"/>\n       <path id=\"DejaVuSans-6e\" d=\"M 3513 2113 \nL 3513 0 \nL 2938 0 \nL 2938 2094 \nQ 2938 2591 2744 2837 \nQ 2550 3084 2163 3084 \nQ 1697 3084 1428 2787 \nQ 1159 2491 1159 1978 \nL 1159 0 \nL 581 0 \nL 581 3500 \nL 1159 3500 \nL 1159 2956 \nQ 1366 3272 1645 3428 \nQ 1925 3584 2291 3584 \nQ 2894 3584 3203 3211 \nQ 3513 2838 3513 2113 \nz\n\" transform=\"scale(0.015625)\"/>\n       <path id=\"DejaVuSans-74\" d=\"M 1172 4494 \nL 1172 3500 \nL 2356 3500 \nL 2356 3053 \nL 1172 3053 \nL 1172 1153 \nQ 1172 725 1289 603 \nQ 1406 481 1766 481 \nL 2356 481 \nL 2356 0 \nL 1766 0 \nQ 1100 0 847 248 \nQ 594 497 594 1153 \nL 594 3053 \nL 172 3053 \nL 172 3500 \nL 594 3500 \nL 594 4494 \nL 1172 4494 \nz\n\" transform=\"scale(0.015625)\"/>\n      </defs>\n      <use xlink:href=\"#DejaVuSans-6d\"/>\n      <use xlink:href=\"#DejaVuSans-78\" x=\"97.412109\"/>\n      <use xlink:href=\"#DejaVuSans-6e\" x=\"156.591797\"/>\n      <use xlink:href=\"#DejaVuSans-65\" x=\"219.970703\"/>\n      <use xlink:href=\"#DejaVuSans-74\" x=\"281.494141\"/>\n     </g>\n    </g>\n    <g id=\"line2d_17\">\n     <path d=\"M 71.478125 34.976562 \nL 81.478125 34.976562 \nL 91.478125 34.976562 \n\" style=\"fill: none; stroke: #ff7f0e; stroke-width: 1.5; stroke-linecap: square\"/>\n    </g>\n    <g id=\"text_7\">\n     <!-- tvm -->\n     <g transform=\"translate(99.478125 38.476562)scale(0.1 -0.1)\">\n      <defs>\n       <path id=\"DejaVuSans-76\" d=\"M 191 3500 \nL 800 3500 \nL 1894 563 \nL 2988 3500 \nL 3597 3500 \nL 2284 0 \nL 1503 0 \nL 191 3500 \nz\n\" transform=\"scale(0.015625)\"/>\n      </defs>\n      <use xlink:href=\"#DejaVuSans-74\"/>\n      <use xlink:href=\"#DejaVuSans-76\" x=\"39.208984\"/>\n      <use xlink:href=\"#DejaVuSans-6d\" x=\"98.388672\"/>\n     </g>\n    </g>\n   </g>\n  </g>\n </g>\n <defs>\n  <clipPath id=\"p4d4ec47882\">\n   <rect x=\"62.478125\" y=\"7.2\" width=\"251.1\" height=\"163.08\"/>\n  </clipPath>\n </defs>\n</svg>\n",
      "text/plain": [
       "<Figure size 324x216 with 1 Axes>"
      ]
     },
     "metadata": {
      "needs_background": "light"
     },
     "output_type": "display_data"
    }
   ],
   "source": [
    "tvm_gflops = bench_conv_tvm(cached_block, sizes, target)\n",
    "utils.plot_gflops(channels, [mxnet_gflops, tvm_gflops], ['mxnet', 'tvm'])"
   ]
  }
 ],
 "metadata": {
  "kernelspec": {
   "display_name": "Python 3.8.13 ('env_model')",
   "language": "python",
   "name": "python3"
  },
  "language_info": {
   "codemirror_mode": {
    "name": "ipython",
    "version": 3
   },
   "file_extension": ".py",
   "mimetype": "text/x-python",
   "name": "python",
   "nbconvert_exporter": "python",
   "pygments_lexer": "ipython3",
   "version": "3.8.13"
  },
  "orig_nbformat": 4,
  "vscode": {
   "interpreter": {
    "hash": "af60b091d481e3f69a8e5a5de9b9b5e13d642b6b55b505a9cc6b9b8a84ed9e11"
   }
  }
 },
 "nbformat": 4,
 "nbformat_minor": 2
}
