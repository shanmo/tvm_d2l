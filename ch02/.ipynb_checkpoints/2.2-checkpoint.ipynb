{
 "cells": [
  {
   "cell_type": "code",
   "execution_count": 1,
   "id": "00446522",
   "metadata": {},
   "outputs": [],
   "source": [
    "import numpy as np\n",
    "import tvm\n",
    "from tvm import te"
   ]
  },
  {
   "cell_type": "code",
   "execution_count": 2,
   "id": "abc0962f",
   "metadata": {},
   "outputs": [
    {
     "data": {
      "text/plain": [
       "(tvm.tir.expr.Var, 'int32')"
      ]
     },
     "execution_count": 2,
     "metadata": {},
     "output_type": "execute_result"
    }
   ],
   "source": [
    "n = te.var(name='n')\n",
    "type(n), n.dtype"
   ]
  },
  {
   "cell_type": "code",
   "execution_count": 3,
   "id": "897c5fbc",
   "metadata": {},
   "outputs": [
    {
     "data": {
      "text/plain": [
       "#[version = \"0.0.5\"]\n",
       "@main = primfn(a_1: handle, b_1: handle, c_1: handle) -> ()\n",
       "  attr = {\"from_legacy_te_schedule\": True, \"global_symbol\": \"main\", \"tir.noalias\": True}\n",
       "  buffers = {a: Buffer(a_2: Pointer(float32), float32, [(stride: int32*n: int32)], [], type=\"auto\"),\n",
       "             b: Buffer(b_2: Pointer(float32), float32, [(stride_1: int32*n)], [], type=\"auto\"),\n",
       "             c: Buffer(c_2: Pointer(float32), float32, [(stride_2: int32*n)], [], type=\"auto\")}\n",
       "  buffer_map = {a_1: a, b_1: b, c_1: c}\n",
       "  preflattened_buffer_map = {a_1: a_3: Buffer(a_2, float32, [n], [stride], type=\"auto\"), b_1: b_3: Buffer(b_2, float32, [n], [stride_1], type=\"auto\"), c_1: c_3: Buffer(c_2, float32, [n], [stride_2], type=\"auto\")} {\n",
       "  for (i: int32, 0, n) {\n",
       "    c[(i*stride_2)] = (a[(i*stride)] + b[(i*stride_1)])\n",
       "  }\n",
       "}\n",
       "\n",
       "#[metadata]\n",
       "{\n",
       "  \"root\": 1, \n",
       "  \"nodes\": [\n",
       "    {\n",
       "      \"type_key\": \"\"\n",
       "    }, \n",
       "    {\n",
       "      \"type_key\": \"Map\", \n",
       "      \"keys\": [\n",
       "        \"IntImm\"\n",
       "      ], \n",
       "      \"data\": [2]\n",
       "    }, \n",
       "    {\n",
       "      \"type_key\": \"Array\", \n",
       "      \"data\": [3, 4]\n",
       "    }, \n",
       "    {\n",
       "      \"type_key\": \"IntImm\", \n",
       "      \"attrs\": {\n",
       "        \"dtype\": \"bool\", \n",
       "        \"span\": \"0\", \n",
       "        \"value\": \"1\"\n",
       "      }\n",
       "    }, \n",
       "    {\n",
       "      \"type_key\": \"IntImm\", \n",
       "      \"attrs\": {\n",
       "        \"dtype\": \"bool\", \n",
       "        \"span\": \"0\", \n",
       "        \"value\": \"1\"\n",
       "      }\n",
       "    }\n",
       "  ], \n",
       "  \"b64ndarrays\": [], \n",
       "  \"attrs\": {\"tvm_version\": \"0.9.dev0\"}\n",
       "}"
      ]
     },
     "execution_count": 3,
     "metadata": {},
     "output_type": "execute_result"
    }
   ],
   "source": [
    "A = te.placeholder((n,), name='a')\n",
    "B = te.placeholder((n,), name='b')\n",
    "C = te.compute(A.shape, lambda i: A[i] + B[i], name='c')\n",
    "s = te.create_schedule(C.op)\n",
    "tvm.lower(s, [A, B, C], simple_mode=True)"
   ]
  },
  {
   "cell_type": "code",
   "execution_count": 8,
   "id": "397813b9",
   "metadata": {},
   "outputs": [],
   "source": [
    "def get_abc(shape, constructor=None):\n",
    "    print(f\"shape is {shape}\")\n",
    "    np.random.seed(0)\n",
    "    # Note that NumPy in default uses 64-bit floating-points or 64-bit integers,\n",
    "    # which is different from 32-bit floating point typically used in deep learning,\n",
    "    # so we explicitly cast the data type\n",
    "    a = np.random.normal(size=shape).astype(np.float32)\n",
    "    b = np.random.normal(size=shape).astype(np.float32)\n",
    "    c = np.empty_like(a)\n",
    "    if constructor:\n",
    "        a, b, c = [constructor(x) for x in (a, b, c)]\n",
    "    return a, b, c"
   ]
  },
  {
   "cell_type": "code",
   "execution_count": 10,
   "id": "501ec016",
   "metadata": {},
   "outputs": [
    {
     "name": "stdout",
     "output_type": "stream",
     "text": [
      "n is 5\n"
     ]
    },
    {
     "ename": "TypeError",
     "evalue": "expected sequence object with len >= 0 or a single integer",
     "output_type": "error",
     "traceback": [
      "\u001b[0;31m---------------------------------------------------------------------------\u001b[0m",
      "\u001b[0;31mTypeError\u001b[0m                                 Traceback (most recent call last)",
      "Input \u001b[0;32mIn [10]\u001b[0m, in \u001b[0;36m<cell line: 8>\u001b[0;34m()\u001b[0m\n\u001b[1;32m      5\u001b[0m     np\u001b[38;5;241m.\u001b[39mtesting\u001b[38;5;241m.\u001b[39massert_equal(c\u001b[38;5;241m.\u001b[39masnumpy(), a\u001b[38;5;241m.\u001b[39masnumpy() \u001b[38;5;241m+\u001b[39m b\u001b[38;5;241m.\u001b[39masnumpy())\n\u001b[1;32m      7\u001b[0m mod \u001b[38;5;241m=\u001b[39m tvm\u001b[38;5;241m.\u001b[39mbuild(s, [A, B, C])\n\u001b[0;32m----> 8\u001b[0m \u001b[43mtest_mod\u001b[49m\u001b[43m(\u001b[49m\u001b[43mmod\u001b[49m\u001b[43m,\u001b[49m\u001b[43m \u001b[49m\u001b[38;5;241;43m5\u001b[39;49m\u001b[43m)\u001b[49m\n\u001b[1;32m      9\u001b[0m test_mod(mod, \u001b[38;5;241m1000\u001b[39m)\n",
      "Input \u001b[0;32mIn [10]\u001b[0m, in \u001b[0;36mtest_mod\u001b[0;34m(mod, m)\u001b[0m\n\u001b[1;32m      1\u001b[0m \u001b[38;5;28;01mdef\u001b[39;00m \u001b[38;5;21mtest_mod\u001b[39m(mod, m):\n\u001b[0;32m----> 2\u001b[0m     a, b, c \u001b[38;5;241m=\u001b[39m \u001b[43mget_abc\u001b[49m\u001b[43m(\u001b[49m\u001b[43mm\u001b[49m\u001b[43m,\u001b[49m\u001b[43m \u001b[49m\u001b[43mtvm\u001b[49m\u001b[38;5;241;43m.\u001b[39;49m\u001b[43mnd\u001b[49m\u001b[38;5;241;43m.\u001b[39;49m\u001b[43marray\u001b[49m\u001b[43m)\u001b[49m\n\u001b[1;32m      3\u001b[0m     mod(a, b, c)\n\u001b[1;32m      4\u001b[0m     \u001b[38;5;28mprint\u001b[39m(\u001b[38;5;124m'\u001b[39m\u001b[38;5;124mc.shape:\u001b[39m\u001b[38;5;124m'\u001b[39m, c\u001b[38;5;241m.\u001b[39mshape)\n",
      "Input \u001b[0;32mIn [8]\u001b[0m, in \u001b[0;36mget_abc\u001b[0;34m(shape, constructor)\u001b[0m\n\u001b[1;32m      3\u001b[0m np\u001b[38;5;241m.\u001b[39mrandom\u001b[38;5;241m.\u001b[39mseed(\u001b[38;5;241m0\u001b[39m)\n\u001b[1;32m      4\u001b[0m \u001b[38;5;66;03m# Note that NumPy in default uses 64-bit floating-points or 64-bit integers,\u001b[39;00m\n\u001b[1;32m      5\u001b[0m \u001b[38;5;66;03m# which is different from 32-bit floating point typically used in deep learning,\u001b[39;00m\n\u001b[1;32m      6\u001b[0m \u001b[38;5;66;03m# so we explicitly cast the data type\u001b[39;00m\n\u001b[0;32m----> 7\u001b[0m a \u001b[38;5;241m=\u001b[39m \u001b[43mnp\u001b[49m\u001b[38;5;241;43m.\u001b[39;49m\u001b[43mrandom\u001b[49m\u001b[38;5;241;43m.\u001b[39;49m\u001b[43mnormal\u001b[49m\u001b[43m(\u001b[49m\u001b[43msize\u001b[49m\u001b[38;5;241;43m=\u001b[39;49m\u001b[43mn\u001b[49m\u001b[43m)\u001b[49m\u001b[38;5;241m.\u001b[39mastype(np\u001b[38;5;241m.\u001b[39mfloat32)\n\u001b[1;32m      8\u001b[0m b \u001b[38;5;241m=\u001b[39m np\u001b[38;5;241m.\u001b[39mrandom\u001b[38;5;241m.\u001b[39mnormal(size\u001b[38;5;241m=\u001b[39mn)\u001b[38;5;241m.\u001b[39mastype(np\u001b[38;5;241m.\u001b[39mfloat32)\n\u001b[1;32m      9\u001b[0m c \u001b[38;5;241m=\u001b[39m np\u001b[38;5;241m.\u001b[39mempty_like(a)\n",
      "File \u001b[0;32mmtrand.pyx:1510\u001b[0m, in \u001b[0;36mnumpy.random.mtrand.RandomState.normal\u001b[0;34m()\u001b[0m\n",
      "File \u001b[0;32m_common.pyx:615\u001b[0m, in \u001b[0;36mnumpy.random._common.cont\u001b[0;34m()\u001b[0m\n",
      "\u001b[0;31mTypeError\u001b[0m: expected sequence object with len >= 0 or a single integer"
     ]
    }
   ],
   "source": [
    "def test_mod(mod, m):\n",
    "    a, b, c = get_abc(m, tvm.nd.array)\n",
    "    mod(a, b, c)\n",
    "    print('c.shape:', c.shape)\n",
    "    np.testing.assert_equal(c.asnumpy(), a.asnumpy() + b.asnumpy())\n",
    "\n",
    "mod = tvm.build(s, [A, B, C])\n",
    "test_mod(mod, 5)\n",
    "test_mod(mod, 1000)"
   ]
  },
  {
   "cell_type": "code",
   "execution_count": null,
   "id": "2b9122c0",
   "metadata": {},
   "outputs": [],
   "source": []
  }
 ],
 "metadata": {
  "kernelspec": {
   "display_name": "Python 3 (ipykernel)",
   "language": "python",
   "name": "python3"
  },
  "language_info": {
   "codemirror_mode": {
    "name": "ipython",
    "version": 3
   },
   "file_extension": ".py",
   "mimetype": "text/x-python",
   "name": "python",
   "nbconvert_exporter": "python",
   "pygments_lexer": "ipython3",
   "version": "3.8.13"
  }
 },
 "nbformat": 4,
 "nbformat_minor": 5
}
