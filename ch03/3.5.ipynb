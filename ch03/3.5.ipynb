{
 "cells": [
  {
   "cell_type": "code",
   "execution_count": null,
   "metadata": {},
   "outputs": [],
   "source": []
  }
 ],
 "metadata": {
  "interpreter": {
   "hash": "af60b091d481e3f69a8e5a5de9b9b5e13d642b6b55b505a9cc6b9b8a84ed9e11"
  },
  "kernelspec": {
   "display_name": "Python 3.8.13 ('env_model')",
   "language": "python",
   "name": "python3"
  },
  "language_info": {
   "name": "python",
   "version": "3.8.13"
  },
  "orig_nbformat": 4
 },
 "nbformat": 4,
 "nbformat_minor": 2
}
