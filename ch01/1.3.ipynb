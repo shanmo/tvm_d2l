{
 "cells": [
  {
   "cell_type": "code",
   "execution_count": 12,
   "id": "adfaefcc",
   "metadata": {},
   "outputs": [],
   "source": [
    "import numpy as np\n",
    "import mxnet as mx\n",
    "import tvm\n",
    "from tvm import relay"
   ]
  },
  {
   "cell_type": "code",
   "execution_count": 2,
   "id": "6290dbb0",
   "metadata": {},
   "outputs": [
    {
     "name": "stdout",
     "output_type": "stream",
     "text": [
      "Downloading /home/sean/.mxnet/models/resnet18_v2-a81db45f.zip8f1a84da-c783-4cc7-bc85-5126566d18cd from https://apache-mxnet.s3-accelerate.dualstack.amazonaws.com/gluon/models/resnet18_v2-a81db45f.zip...\n"
     ]
    },
    {
     "data": {
      "text/plain": [
       "(13, Dense(512 -> 1000, linear))"
      ]
     },
     "execution_count": 2,
     "metadata": {},
     "output_type": "execute_result"
    }
   ],
   "source": [
    "model = mx.gluon.model_zoo.vision.resnet18_v2(pretrained=True)\n",
    "len(model.features), model.output"
   ]
  },
  {
   "cell_type": "code",
   "execution_count": 3,
   "id": "6682b5e7",
   "metadata": {},
   "outputs": [],
   "source": [
    "with open('./imagenet1k_labels.txt') as f:\n",
    "    labels = eval(f.read())"
   ]
  },
  {
   "cell_type": "code",
   "execution_count": 8,
   "id": "56bc226d",
   "metadata": {},
   "outputs": [],
   "source": [
    "import cv2 \n",
    "import numpy as np \n",
    "image = cv2.imread('./cat.png', cv2.COLOR_BGR2RGB)\n",
    "image = cv2.resize(image, (224, 224)).astype(np.float32) "
   ]
  },
  {
   "cell_type": "code",
   "execution_count": 9,
   "id": "bca0f4f9",
   "metadata": {},
   "outputs": [],
   "source": [
    "def image_preprocessing(image):\n",
    "    image = np.array(image) - np.array([123., 117., 104.])\n",
    "    image /= np.array([58.395, 57.12, 57.375])\n",
    "    image = image.transpose((2, 0, 1))\n",
    "    image = image[np.newaxis, :]\n",
    "    return image.astype('float32')"
   ]
  },
  {
   "cell_type": "code",
   "execution_count": 10,
   "id": "fa1cde03",
   "metadata": {},
   "outputs": [
    {
     "data": {
      "text/plain": [
       "(1, 3, 224, 224)"
      ]
     },
     "execution_count": 10,
     "metadata": {},
     "output_type": "execute_result"
    }
   ],
   "source": [
    "x = image_preprocessing(image)\n",
    "x.shape"
   ]
  },
  {
   "cell_type": "code",
   "execution_count": 13,
   "id": "ad8435cb",
   "metadata": {},
   "outputs": [
    {
     "data": {
      "text/plain": [
       "(tvm.ir.module.IRModule, dict)"
      ]
     },
     "execution_count": 13,
     "metadata": {},
     "output_type": "execute_result"
    }
   ],
   "source": [
    "relay_mod, relay_params = relay.frontend.from_mxnet(model, {'data': x.shape})\n",
    "type(relay_mod), type(relay_params)"
   ]
  },
  {
   "cell_type": "code",
   "execution_count": 15,
   "id": "14fca1dc",
   "metadata": {},
   "outputs": [
    {
     "name": "stderr",
     "output_type": "stream",
     "text": [
      "/tmp/ipykernel_8209/23047397.py:3: DeprecationWarning: legacy graph executor behavior of producing json / lib / params will be removed in the next release. Please see documents of tvm.contrib.graph_executor.GraphModule for the  new recommended usage.\n",
      "  graph, mod, params = relay.build(relay_mod, target, params=relay_params)\n"
     ]
    }
   ],
   "source": [
    "target = 'llvm -mcpu tigerlake'\n",
    "with relay.build_config(opt_level=3):\n",
    "    graph, mod, params = relay.build(relay_mod, target, params=relay_params)"
   ]
  },
  {
   "cell_type": "code",
   "execution_count": 16,
   "id": "2e0b907e",
   "metadata": {},
   "outputs": [
    {
     "data": {
      "text/plain": [
       "(str, tvm.runtime.module.Module, dict)"
      ]
     },
     "execution_count": 16,
     "metadata": {},
     "output_type": "execute_result"
    }
   ],
   "source": [
    "type(graph), type(mod), type(params)"
   ]
  },
  {
   "cell_type": "code",
   "execution_count": 19,
   "id": "41c98cda",
   "metadata": {},
   "outputs": [
    {
     "data": {
      "text/plain": [
       "(1000,)"
      ]
     },
     "execution_count": 19,
     "metadata": {},
     "output_type": "execute_result"
    }
   ],
   "source": [
    "ctx = tvm.device(target)\n",
    "rt = tvm.contrib.graph_executor.create(graph, mod, ctx)\n",
    "rt.set_input(**params)\n",
    "rt.run(data=tvm.nd.array(x))\n",
    "scores = rt.get_output(0).asnumpy()[0]\n",
    "scores.shape"
   ]
  },
  {
   "cell_type": "code",
   "execution_count": 20,
   "id": "2597ddc9",
   "metadata": {},
   "outputs": [
    {
     "data": {
      "text/plain": [
       "('Egyptian cat', 'tabby, tabby cat')"
      ]
     },
     "execution_count": 20,
     "metadata": {},
     "output_type": "execute_result"
    }
   ],
   "source": [
    "a = np.argsort(scores)[-1:-5:-1]\n",
    "labels[a[0]], labels[a[1]]"
   ]
  },
  {
   "cell_type": "code",
   "execution_count": 21,
   "id": "b06e1c34",
   "metadata": {},
   "outputs": [
    {
     "name": "stdout",
     "output_type": "stream",
     "text": [
      "-rw-rw-r-- 1 sean sean 45M Jun  4 15:09 resnet18.params\r\n",
      "-rw-rw-r-- 1 sean sean 36K Jun  4 15:09 resnet18.json\r\n",
      "-rw-rw-r-- 1 sean sean 61K Jun  4 15:09 resnet18.tar\r\n"
     ]
    }
   ],
   "source": [
    "!rm -rf resnet18*\n",
    "\n",
    "name = 'resnet18'\n",
    "graph_fn, mod_fn, params_fn = [name+ext for ext in ('.json','.tar','.params')]\n",
    "mod.export_library(mod_fn)\n",
    "with open(graph_fn, 'w') as f:\n",
    "    f.write(graph)\n",
    "with open(params_fn, 'wb') as f:\n",
    "    f.write(relay.save_param_dict(params))\n",
    "\n",
    "!ls -alht resnet18*"
   ]
  },
  {
   "cell_type": "code",
   "execution_count": 22,
   "id": "5124200f",
   "metadata": {},
   "outputs": [],
   "source": [
    "loaded_graph = open(graph_fn).read()\n",
    "loaded_mod = tvm.runtime.load_module(mod_fn)\n",
    "loaded_params = open(params_fn, \"rb\").read()"
   ]
  },
  {
   "cell_type": "code",
   "execution_count": 24,
   "id": "01a2ade4",
   "metadata": {},
   "outputs": [],
   "source": [
    "loaded_rt = tvm.contrib.graph_executor.create(loaded_graph, loaded_mod, ctx)\n",
    "loaded_rt.load_params(loaded_params)\n",
    "loaded_rt.run(data=tvm.nd.array(x))\n",
    "loaded_scores = loaded_rt.get_output(0).asnumpy()[0]\n",
    "np.testing.assert_allclose(loaded_scores, scores)"
   ]
  },
  {
   "cell_type": "code",
   "execution_count": null,
   "id": "62e74be2",
   "metadata": {},
   "outputs": [],
   "source": []
  }
 ],
 "metadata": {
  "kernelspec": {
   "display_name": "Python 3 (ipykernel)",
   "language": "python",
   "name": "python3"
  },
  "language_info": {
   "codemirror_mode": {
    "name": "ipython",
    "version": 3
   },
   "file_extension": ".py",
   "mimetype": "text/x-python",
   "name": "python",
   "nbconvert_exporter": "python",
   "pygments_lexer": "ipython3",
   "version": "3.8.13"
  }
 },
 "nbformat": 4,
 "nbformat_minor": 5
}
